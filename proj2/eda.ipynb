{
 "cells": [
  {
   "cell_type": "code",
   "execution_count": 1,
   "metadata": {},
   "outputs": [],
   "source": [
    "import os"
   ]
  },
  {
   "cell_type": "code",
   "execution_count": 2,
   "metadata": {},
   "outputs": [],
   "source": [
    "DATASET_DIR = './Dataset/'"
   ]
  },
  {
   "cell_type": "code",
   "execution_count": 4,
   "metadata": {},
   "outputs": [
    {
     "name": "stdout",
     "output_type": "stream",
     "text": [
      "Class distribution for train\n",
      "bed: 1713\n",
      "bird: 1731\n",
      "cat: 1733\n",
      "dog: 1746\n",
      "down: 2359\n",
      "eight: 2352\n",
      "five: 2357\n",
      "four: 2372\n",
      "go: 2372\n",
      "happy: 1742\n",
      "house: 1750\n",
      "left: 2353\n",
      "marvin: 1746\n",
      "nine: 2364\n",
      "no: 2375\n",
      "off: 2357\n",
      "on: 2367\n",
      "one: 2370\n",
      "right: 2367\n",
      "seven: 2377\n",
      "sheila: 1734\n",
      "six: 2369\n",
      "stop: 2380\n",
      "three: 2356\n",
      "tree: 1733\n",
      "two: 2373\n",
      "up: 2375\n",
      "wow: 1745\n",
      "yes: 2377\n",
      "zero: 2376\n",
      "_background_noise_: 7\n",
      "Class distribution for test\n",
      "audio: 158538\n"
     ]
    }
   ],
   "source": [
    "classCounts = {\"train\":{},\"test\":{}}\n",
    "dirPath = os.path.join(DATASET_DIR,'test')\n",
    "for classFolder in os.listdir(dirPath):\n",
    "    classCounts['test'][classFolder] = len(os.listdir(os.path.join(dirPath, classFolder)))\n",
    "\n",
    "dirPath = os.path.join(DATASET_DIR,'train/audio')\n",
    "for classFolder in os.listdir(dirPath):\n",
    "    classCounts['train'][classFolder] = len(os.listdir(os.path.join(dirPath, classFolder)))\n",
    "\n",
    "\n",
    "for splitName, splitObject in classCounts.items():\n",
    "    print(f\"Class distribution for {splitName}\")\n",
    "    for subfolder, count in splitObject.items():\n",
    "        print(f\"{subfolder}: {count}\")"
   ]
  }
 ],
 "metadata": {
  "kernelspec": {
   "display_name": "Python 3",
   "language": "python",
   "name": "python3"
  },
  "language_info": {
   "codemirror_mode": {
    "name": "ipython",
    "version": 3
   },
   "file_extension": ".py",
   "mimetype": "text/x-python",
   "name": "python",
   "nbconvert_exporter": "python",
   "pygments_lexer": "ipython3",
   "version": "3.12.2"
  }
 },
 "nbformat": 4,
 "nbformat_minor": 2
}
