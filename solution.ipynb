{
 "cells": [
  {
   "cell_type": "markdown",
   "metadata": {},
   "source": [
    "1. EDA on the CINIC-10 Dataset"
   ]
  },
  {
   "cell_type": "code",
   "execution_count": 14,
   "metadata": {},
   "outputs": [],
   "source": [
    "import glob\n",
    "import os\n",
    "import seaborn as sns\n",
    "import matplotlib.pyplot as plt"
   ]
  },
  {
   "cell_type": "markdown",
   "metadata": {},
   "source": [
    "Todo:\n",
    "1. Amount of datapoints per classes in train and test and val\n",
    "2. Dimensions of datapoints\n",
    "4. pixel value distribution\n",
    "5. Mean color distribution per class\n",
    "3. \n",
    "4. Maybe RGB channel distribution\n",
    "5. Maybe SSIM\n",
    "6. Maybe HOG white pixels between classes"
   ]
  },
  {
   "cell_type": "code",
   "execution_count": 2,
   "metadata": {},
   "outputs": [],
   "source": [
    "DATASET_DIR = './Dataset'"
   ]
  },
  {
   "cell_type": "code",
   "execution_count": 7,
   "metadata": {},
   "outputs": [],
   "source": [
    "train_files = glob.glob(os.path.join(DATASET_DIR,'train/**/*.png'),recursive=True)\n",
    "\n",
    "# Need to load the files with division"
   ]
  },
  {
   "cell_type": "markdown",
   "metadata": {},
   "source": [
    "#### Distribution of datapoints per class"
   ]
  },
  {
   "cell_type": "code",
   "execution_count": 23,
   "metadata": {},
   "outputs": [
    {
     "name": "stdout",
     "output_type": "stream",
     "text": [
      "Class distribution for train\n",
      "airplane: 9000\n",
      "automobile: 9000\n",
      "bird: 9000\n",
      "cat: 9000\n",
      "deer: 9000\n",
      "dog: 9000\n",
      "frog: 9000\n",
      "horse: 9000\n",
      "ship: 9000\n",
      "truck: 9000\n",
      "Class distribution for test\n",
      "airplane: 9000\n",
      "automobile: 9000\n",
      "bird: 9000\n",
      "cat: 9000\n",
      "deer: 9000\n",
      "dog: 9000\n",
      "frog: 9000\n",
      "horse: 9000\n",
      "ship: 9000\n",
      "truck: 9000\n",
      "Class distribution for valid\n",
      "airplane: 9000\n",
      "automobile: 9000\n",
      "bird: 9000\n",
      "cat: 9000\n",
      "deer: 9000\n",
      "dog: 9000\n",
      "frog: 9000\n",
      "horse: 9000\n",
      "ship: 9000\n",
      "truck: 9000\n"
     ]
    }
   ],
   "source": [
    "\n",
    "\n",
    "classCounts = {\"train\":{},\"test\":{},\"valid\":{}}\n",
    "dirPath = os.path.join(DATASET_DIR,'test')\n",
    "for classFolder in os.listdir(dirPath):\n",
    "    classCounts['test'][classFolder] = len(os.listdir(os.path.join(dirPath, classFolder)))\n",
    "\n",
    "dirPath = os.path.join(DATASET_DIR,'train')\n",
    "for classFolder in os.listdir(dirPath):\n",
    "    classCounts['train'][classFolder] = len(os.listdir(os.path.join(dirPath, classFolder)))\n",
    "\n",
    "dirPath = os.path.join(DATASET_DIR,'valid')\n",
    "for classFolder in os.listdir(dirPath):\n",
    "    classCounts['valid'][classFolder] = len(os.listdir(os.path.join(dirPath, classFolder)))\n",
    "\n",
    "for splitName, splitObject in classCounts.items():\n",
    "    print(f\"Class distribution for {splitName}\")\n",
    "    for subfolder, count in splitObject.items():\n",
    "        print(f\"{subfolder}: {count}\")\n"
   ]
  }
 ],
 "metadata": {
  "kernelspec": {
   "display_name": "Python 3",
   "language": "python",
   "name": "python3"
  },
  "language_info": {
   "codemirror_mode": {
    "name": "ipython",
    "version": 3
   },
   "file_extension": ".py",
   "mimetype": "text/x-python",
   "name": "python",
   "nbconvert_exporter": "python",
   "pygments_lexer": "ipython3",
   "version": "3.12.2"
  }
 },
 "nbformat": 4,
 "nbformat_minor": 2
}
