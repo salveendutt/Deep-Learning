{
 "cells": [
  {
   "cell_type": "markdown",
   "metadata": {},
   "source": [
    "1. EDA on the CINIC-10 Dataset"
   ]
  },
  {
   "cell_type": "code",
   "execution_count": 38,
   "metadata": {},
   "outputs": [],
   "source": [
    "import glob\n",
    "import os\n",
    "import seaborn as sns\n",
    "import matplotlib.pyplot as plt\n",
    "import pandas as pd\n",
    "from PIL import Image"
   ]
  },
  {
   "cell_type": "markdown",
   "metadata": {},
   "source": [
    "Todo:\n",
    "\n",
    "2. Dimensions of datapoints\n",
    "4. pixel value distribution\n",
    "5. Mean color distribution per class\n",
    "3. \n",
    "4. Maybe RGB channel distribution\n",
    "5. Maybe SSIM\n",
    "6. Maybe HOG white pixels between classes"
   ]
  },
  {
   "cell_type": "code",
   "execution_count": 39,
   "metadata": {},
   "outputs": [],
   "source": [
    "DATASET_DIR = './Dataset'"
   ]
  },
  {
   "cell_type": "code",
   "execution_count": 40,
   "metadata": {},
   "outputs": [],
   "source": [
    "train_files = glob.glob(os.path.join(DATASET_DIR,'train/**/*.png'),recursive=True)\n",
    "\n",
    "# Need to load the files with division"
   ]
  },
  {
   "cell_type": "markdown",
   "metadata": {},
   "source": [
    "#### Distribution of datapoints per class\n",
    "- Each class in each split contains 9000 images"
   ]
  },
  {
   "cell_type": "code",
   "execution_count": 41,
   "metadata": {},
   "outputs": [
    {
     "name": "stdout",
     "output_type": "stream",
     "text": [
      "Class distribution for train\n",
      "airplane: 9000\n",
      "automobile: 9000\n",
      "bird: 9000\n",
      "cat: 9000\n",
      "deer: 9000\n",
      "dog: 9000\n",
      "frog: 9000\n",
      "horse: 9000\n",
      "ship: 9000\n",
      "truck: 9000\n",
      "Class distribution for test\n",
      "airplane: 9000\n",
      "automobile: 9000\n",
      "bird: 9000\n",
      "cat: 9000\n",
      "deer: 9000\n",
      "dog: 9000\n",
      "frog: 9000\n",
      "horse: 9000\n",
      "ship: 9000\n",
      "truck: 9000\n",
      "Class distribution for valid\n",
      "airplane: 9000\n",
      "automobile: 9000\n",
      "bird: 9000\n",
      "cat: 9000\n",
      "deer: 9000\n",
      "dog: 9000\n",
      "frog: 9000\n",
      "horse: 9000\n",
      "ship: 9000\n",
      "truck: 9000\n"
     ]
    }
   ],
   "source": [
    "\n",
    "\n",
    "classCounts = {\"train\":{},\"test\":{},\"valid\":{}}\n",
    "dirPath = os.path.join(DATASET_DIR,'test')\n",
    "for classFolder in os.listdir(dirPath):\n",
    "    classCounts['test'][classFolder] = len(os.listdir(os.path.join(dirPath, classFolder)))\n",
    "\n",
    "dirPath = os.path.join(DATASET_DIR,'train')\n",
    "for classFolder in os.listdir(dirPath):\n",
    "    classCounts['train'][classFolder] = len(os.listdir(os.path.join(dirPath, classFolder)))\n",
    "\n",
    "dirPath = os.path.join(DATASET_DIR,'valid')\n",
    "for classFolder in os.listdir(dirPath):\n",
    "    classCounts['valid'][classFolder] = len(os.listdir(os.path.join(dirPath, classFolder)))\n",
    "\n",
    "for splitName, splitObject in classCounts.items():\n",
    "    print(f\"Class distribution for {splitName}\")\n",
    "    for subfolder, count in splitObject.items():\n",
    "        print(f\"{subfolder}: {count}\")\n"
   ]
  },
  {
   "cell_type": "code",
   "execution_count": 44,
   "metadata": {},
   "outputs": [],
   "source": [
    "def parse_filepath(filepath):\n",
    "    path, filename = os.path.split(filepath)\n",
    "    filename, ext = os.path.splitext(filename)\n",
    "    fileSize = os.path.getsize(filepath)\n",
    "    im = Image.open(filepath)\n",
    "    width, height = im.size\n",
    "    return int(fileSize)/1024, int(width), int(height)"
   ]
  },
  {
   "cell_type": "code",
   "execution_count": 45,
   "metadata": {},
   "outputs": [],
   "source": [
    "train_files = glob.glob(os.path.join(DATASET_DIR,'train/**/*.png'),recursive=True)\n",
    "attributes = list(map(parse_filepath, train_files))"
   ]
  },
  {
   "cell_type": "code",
   "execution_count": 48,
   "metadata": {},
   "outputs": [],
   "source": [
    "df = pd.DataFrame(attributes)\n",
    "df['file'] = train_files\n",
    "df.columns = [ 'file size (KB)','width','height','file']\n",
    "df = df.dropna()"
   ]
  },
  {
   "cell_type": "markdown",
   "metadata": {},
   "source": [
    "All images are of 32x32 resolution, the average image size is 2.67 KB"
   ]
  },
  {
   "cell_type": "code",
   "execution_count": 49,
   "metadata": {},
   "outputs": [
    {
     "data": {
      "text/html": [
       "<div>\n",
       "<style scoped>\n",
       "    .dataframe tbody tr th:only-of-type {\n",
       "        vertical-align: middle;\n",
       "    }\n",
       "\n",
       "    .dataframe tbody tr th {\n",
       "        vertical-align: top;\n",
       "    }\n",
       "\n",
       "    .dataframe thead th {\n",
       "        text-align: right;\n",
       "    }\n",
       "</style>\n",
       "<table border=\"1\" class=\"dataframe\">\n",
       "  <thead>\n",
       "    <tr style=\"text-align: right;\">\n",
       "      <th></th>\n",
       "      <th>file size (KB)</th>\n",
       "      <th>width</th>\n",
       "      <th>height</th>\n",
       "    </tr>\n",
       "  </thead>\n",
       "  <tbody>\n",
       "    <tr>\n",
       "      <th>count</th>\n",
       "      <td>90000.000000</td>\n",
       "      <td>90000.0</td>\n",
       "      <td>90000.0</td>\n",
       "    </tr>\n",
       "    <tr>\n",
       "      <th>mean</th>\n",
       "      <td>2.670482</td>\n",
       "      <td>32.0</td>\n",
       "      <td>32.0</td>\n",
       "    </tr>\n",
       "    <tr>\n",
       "      <th>std</th>\n",
       "      <td>2.082283</td>\n",
       "      <td>0.0</td>\n",
       "      <td>0.0</td>\n",
       "    </tr>\n",
       "    <tr>\n",
       "      <th>min</th>\n",
       "      <td>0.244141</td>\n",
       "      <td>32.0</td>\n",
       "      <td>32.0</td>\n",
       "    </tr>\n",
       "    <tr>\n",
       "      <th>25%</th>\n",
       "      <td>2.195312</td>\n",
       "      <td>32.0</td>\n",
       "      <td>32.0</td>\n",
       "    </tr>\n",
       "    <tr>\n",
       "      <th>50%</th>\n",
       "      <td>2.396484</td>\n",
       "      <td>32.0</td>\n",
       "      <td>32.0</td>\n",
       "    </tr>\n",
       "    <tr>\n",
       "      <th>75%</th>\n",
       "      <td>2.593750</td>\n",
       "      <td>32.0</td>\n",
       "      <td>32.0</td>\n",
       "    </tr>\n",
       "    <tr>\n",
       "      <th>max</th>\n",
       "      <td>377.538086</td>\n",
       "      <td>32.0</td>\n",
       "      <td>32.0</td>\n",
       "    </tr>\n",
       "  </tbody>\n",
       "</table>\n",
       "</div>"
      ],
      "text/plain": [
       "       file size (KB)    width   height\n",
       "count    90000.000000  90000.0  90000.0\n",
       "mean         2.670482     32.0     32.0\n",
       "std          2.082283      0.0      0.0\n",
       "min          0.244141     32.0     32.0\n",
       "25%          2.195312     32.0     32.0\n",
       "50%          2.396484     32.0     32.0\n",
       "75%          2.593750     32.0     32.0\n",
       "max        377.538086     32.0     32.0"
      ]
     },
     "execution_count": 49,
     "metadata": {},
     "output_type": "execute_result"
    }
   ],
   "source": [
    "df.describe()"
   ]
  }
 ],
 "metadata": {
  "kernelspec": {
   "display_name": "Python 3",
   "language": "python",
   "name": "python3"
  },
  "language_info": {
   "codemirror_mode": {
    "name": "ipython",
    "version": 3
   },
   "file_extension": ".py",
   "mimetype": "text/x-python",
   "name": "python",
   "nbconvert_exporter": "python",
   "pygments_lexer": "ipython3",
   "version": "3.12.2"
  }
 },
 "nbformat": 4,
 "nbformat_minor": 2
}
