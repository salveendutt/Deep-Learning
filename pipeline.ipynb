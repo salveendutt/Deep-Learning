{
 "cells": [
  {
   "cell_type": "markdown",
   "metadata": {},
   "source": [
    "Todo:\n",
    "2. Merge train and valid splits into 1 and perform 80-20 split\n",
    "    1. Essentialy you want to take 5400 images from each class from valid and move it to test\n",
    "3. Prepare the whole pipeline"
   ]
  }
 ],
 "metadata": {
  "language_info": {
   "name": "python"
  }
 },
 "nbformat": 4,
 "nbformat_minor": 2
}
